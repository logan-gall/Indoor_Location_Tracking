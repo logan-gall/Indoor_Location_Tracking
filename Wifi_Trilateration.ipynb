{
 "cells": [
  {
   "cell_type": "markdown",
   "id": "8f400940",
   "metadata": {},
   "source": [
    "# Location Tracking using Trilateration\n",
    "Logan Gall, gall0487\n",
    "13 Dec. 2023\n",
    "\n",
    "This file performs the true location tracking using wifi beacons. It takes input of known access point locations, then scans current wifi beacons for signal strength, and finally uses least squares to trilaterate current position."
   ]
  },
  {
   "cell_type": "code",
   "execution_count": null,
   "id": "b5d244dd",
   "metadata": {},
   "outputs": [],
   "source": [
    "import csv\n",
    "import time\n",
    "from pywifi import PyWiFi, const\n",
    "from scipy.optimize import least_squares"
   ]
  },
  {
   "cell_type": "code",
   "execution_count": 1,
   "id": "61f751dc",
   "metadata": {},
   "outputs": [],
   "source": [
    "# Function to perform trilateration\n",
    "def trilateration(nodes, distances):\n",
    "    # Nested function defining the equations for trilateration\n",
    "    def equations(point):\n",
    "        x, y, z = point\n",
    "        # Compute the squared differences between measured and calculated distances\n",
    "        return [((x - nx)**2 + (y - ny)**2 + (z - nz)**2 - d**2) for [nx, ny, nz], d in zip(nodes, distances)]\n",
    "    # Starting with an initial guess of [0, 0, 0]\n",
    "    initial_guess = [0, 0, 0]\n",
    "    # Using least squares to solve the equations\n",
    "    result = least_squares(equations, initial_guess)\n",
    "    return result.x"
   ]
  },
  {
   "cell_type": "code",
   "execution_count": 2,
   "id": "b57f671c",
   "metadata": {},
   "outputs": [],
   "source": [
    "#Read in file with access point locations\n",
    "def read_estimated_positions(filename=\"estimated_positions.csv\"):\n",
    "    with open(filename, 'r') as csvfile:\n",
    "        reader = csv.DictReader(csvfile)\n",
    "        positions = {row['BSSID']: [float(row['X Position']), float(row['Y Position']), float(row['Z Position'])] for row in reader}\n",
    "    return positions"
   ]
  },
  {
   "cell_type": "code",
   "execution_count": 3,
   "id": "679e8f41",
   "metadata": {},
   "outputs": [],
   "source": [
    "def scan_wifi_for_trilateration():\n",
    "    wifi = PyWiFi()\n",
    "    iface = wifi.interfaces()[0]\n",
    "\n",
    "    iface.scan()\n",
    "    time.sleep(3)  # Wait for the scan to complete\n",
    "\n",
    "    results = iface.scan_results()\n",
    "    scanned_networks = {}\n",
    "\n",
    "    for network in results:\n",
    "        scanned_networks[network.bssid] = abs(int(network.signal))  # Signal strength as positive value\n",
    "\n",
    "    return scanned_networks"
   ]
  },
  {
   "cell_type": "code",
   "execution_count": 4,
   "id": "5090f19d",
   "metadata": {},
   "outputs": [],
   "source": [
    "def match_networks_with_positions(scanned_networks, estimated_positions):\n",
    "    nodes = []\n",
    "    distances = []\n",
    "\n",
    "    for bssid, signal_strength in scanned_networks.items():\n",
    "        if bssid in estimated_positions:\n",
    "            nodes.append(estimated_positions[bssid])\n",
    "            distances.append(signal_strength)  # Directly use signal strength as proxy for distance\n",
    "\n",
    "    return nodes, distances"
   ]
  },
  {
   "cell_type": "code",
   "execution_count": 5,
   "id": "d02d5e73",
   "metadata": {
    "scrolled": false
   },
   "outputs": [
    {
     "name": "stdout",
     "output_type": "stream",
     "text": [
      "Press Enter to scan for WiFi and estimate position (type 'quit' and press Enter to exit)...\n",
      "Estimated current position: [  0.          63.78036041 -29.03402782]\n",
      "Press Enter to scan for WiFi and estimate position (type 'quit' and press Enter to exit)...\n",
      "Estimated current position: [  0.          64.96202839 -35.19963263]\n",
      "Press Enter to scan for WiFi and estimate position (type 'quit' and press Enter to exit)...\n",
      "Estimated current position: [  0.          64.40781239 -33.39764969]\n",
      "Press Enter to scan for WiFi and estimate position (type 'quit' and press Enter to exit)...quit\n"
     ]
    },
    {
     "ename": "PermissionError",
     "evalue": "[Errno 13] Permission denied: 'current_positions.csv'",
     "output_type": "error",
     "traceback": [
      "\u001b[1;31m---------------------------------------------------------------------------\u001b[0m",
      "\u001b[1;31mPermissionError\u001b[0m                           Traceback (most recent call last)",
      "\u001b[1;32m~\\AppData\\Local\\Temp\\ipykernel_14720\\943705021.py\u001b[0m in \u001b[0;36m<cell line: 37>\u001b[1;34m()\u001b[0m\n\u001b[0;32m     36\u001b[0m \u001b[1;33m\u001b[0m\u001b[0m\n\u001b[0;32m     37\u001b[0m \u001b[1;32mif\u001b[0m \u001b[0m__name__\u001b[0m \u001b[1;33m==\u001b[0m \u001b[1;34m\"__main__\"\u001b[0m\u001b[1;33m:\u001b[0m\u001b[1;33m\u001b[0m\u001b[1;33m\u001b[0m\u001b[0m\n\u001b[1;32m---> 38\u001b[1;33m     \u001b[0mmain\u001b[0m\u001b[1;33m(\u001b[0m\u001b[1;33m)\u001b[0m\u001b[1;33m\u001b[0m\u001b[1;33m\u001b[0m\u001b[0m\n\u001b[0m",
      "\u001b[1;32m~\\AppData\\Local\\Temp\\ipykernel_14720\\943705021.py\u001b[0m in \u001b[0;36mmain\u001b[1;34m()\u001b[0m\n\u001b[0;32m     26\u001b[0m \u001b[1;33m\u001b[0m\u001b[0m\n\u001b[0;32m     27\u001b[0m     \u001b[1;31m# Save the results to a CSV file\u001b[0m\u001b[1;33m\u001b[0m\u001b[1;33m\u001b[0m\u001b[0m\n\u001b[1;32m---> 28\u001b[1;33m     \u001b[1;32mwith\u001b[0m \u001b[0mopen\u001b[0m\u001b[1;33m(\u001b[0m\u001b[1;34m'current_positions.csv'\u001b[0m\u001b[1;33m,\u001b[0m \u001b[1;34m'w'\u001b[0m\u001b[1;33m,\u001b[0m \u001b[0mnewline\u001b[0m\u001b[1;33m=\u001b[0m\u001b[1;34m''\u001b[0m\u001b[1;33m)\u001b[0m \u001b[1;32mas\u001b[0m \u001b[0mcsvfile\u001b[0m\u001b[1;33m:\u001b[0m\u001b[1;33m\u001b[0m\u001b[1;33m\u001b[0m\u001b[0m\n\u001b[0m\u001b[0;32m     29\u001b[0m         \u001b[0mfieldnames\u001b[0m \u001b[1;33m=\u001b[0m \u001b[1;33m[\u001b[0m\u001b[1;34m'X Position'\u001b[0m\u001b[1;33m,\u001b[0m \u001b[1;34m'Y Position'\u001b[0m\u001b[1;33m,\u001b[0m \u001b[1;34m'Z Position'\u001b[0m\u001b[1;33m]\u001b[0m\u001b[1;33m\u001b[0m\u001b[1;33m\u001b[0m\u001b[0m\n\u001b[0;32m     30\u001b[0m         \u001b[0mwriter\u001b[0m \u001b[1;33m=\u001b[0m \u001b[0mcsv\u001b[0m\u001b[1;33m.\u001b[0m\u001b[0mDictWriter\u001b[0m\u001b[1;33m(\u001b[0m\u001b[0mcsvfile\u001b[0m\u001b[1;33m,\u001b[0m \u001b[0mfieldnames\u001b[0m\u001b[1;33m=\u001b[0m\u001b[0mfieldnames\u001b[0m\u001b[1;33m)\u001b[0m\u001b[1;33m\u001b[0m\u001b[1;33m\u001b[0m\u001b[0m\n",
      "\u001b[1;31mPermissionError\u001b[0m: [Errno 13] Permission denied: 'current_positions.csv'"
     ]
    }
   ],
   "source": [
    "# Other functions like read_estimated_positions, scan_wifi_for_trilateration,\n",
    "# match_networks_with_positions, trilateration are assumed to be defined above this part.\n",
    "\n",
    "# The main function of the script\n",
    "def main():\n",
    "    # Read previously estimated positions of WiFi access points\n",
    "    estimated_positions = read_estimated_positions()\n",
    "    # List to store all estimated current positions during this session\n",
    "    all_estimated_current_positions = []\n",
    "\n",
    "    # Infinite loop to continuously perform WiFi scanning and position estimation\n",
    "    while True:\n",
    "        # Prompt the user to initiate a WiFi scan or quit the program\n",
    "        user_input = input(\"Press Enter to scan for WiFi and estimate position (type 'quit' and press Enter to exit)...\")\n",
    "        if user_input.lower() == 'quit':\n",
    "            # Exit the loop if the user types 'quit'\n",
    "            break\n",
    "\n",
    "        # Scan for WiFi networks for trilateration purposes\n",
    "        scanned_networks = scan_wifi_for_trilateration()\n",
    "        # Match the scanned networks with known positions to get nodes and distances\n",
    "        nodes, distances = match_networks_with_positions(scanned_networks, estimated_positions)\n",
    "        \n",
    "        # Check if there is enough data (nodes and distances) for trilateration\n",
    "        if nodes and distances:\n",
    "            # Estimate the current position using trilateration\n",
    "            current_position = trilateration(nodes, distances)\n",
    "            print(f\"Estimated current position: {current_position}\")\n",
    "            # Add the estimated position to the list\n",
    "            all_estimated_current_positions.append(current_position)\n",
    "        else:\n",
    "            print(\"Not enough data for trilateration.\")\n",
    "\n",
    "    # Saving the collected position estimates to a CSV file\n",
    "    with open('current_positions.csv', 'w', newline='') as csvfile:\n",
    "        fieldnames = ['X Position', 'Y Position', 'Z Position']\n",
    "        writer = csv.DictWriter(csvfile, fieldnames=fieldnames)\n",
    "        writer.writeheader()\n",
    "        # Writing each estimated position to the CSV file\n",
    "        for position in all_estimated_current_positions:\n",
    "            writer.writerow({'X Position': position[0], 'Y Position': position[1], 'Z Position': position[2]})\n",
    "\n",
    "    # Print a message confirming the saving of position estimates\n",
    "    print(\"Current position estimates saved to 'current_positions.csv'.\")"
   ]
  },
  {
   "cell_type": "code",
   "execution_count": null,
   "id": "1455d55f",
   "metadata": {},
   "outputs": [],
   "source": [
    "main()"
   ]
  }
 ],
 "metadata": {
  "kernelspec": {
   "display_name": "Python 3 (ipykernel)",
   "language": "python",
   "name": "python3"
  },
  "language_info": {
   "codemirror_mode": {
    "name": "ipython",
    "version": 3
   },
   "file_extension": ".py",
   "mimetype": "text/x-python",
   "name": "python",
   "nbconvert_exporter": "python",
   "pygments_lexer": "ipython3",
   "version": "3.9.18"
  }
 },
 "nbformat": 4,
 "nbformat_minor": 5
}
