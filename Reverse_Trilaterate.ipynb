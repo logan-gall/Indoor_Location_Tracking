{
 "cells": [
  {
   "cell_type": "markdown",
   "id": "25fc468d",
   "metadata": {},
   "source": [
    "# Locating wifi beacons\n",
    "Logan Gall, gall0487\n",
    "\n",
    "13 Dec. 2023\n",
    "\n",
    "This file runs a short script that reads in pre-scanned wifi beacons (colelcted from Locate_APs.ipynb), and then uses trilateration to get approximate locations of each beacon based on MAC address. This allows for us to use these known locations for future trilateration based on a wifi scan."
   ]
  },
  {
   "cell_type": "code",
   "execution_count": null,
   "id": "7e1c8936",
   "metadata": {},
   "outputs": [],
   "source": [
    "import csv\n",
    "from scipy.optimize import least_squares"
   ]
  },
  {
   "cell_type": "code",
   "execution_count": 1,
   "id": "58ec1b92",
   "metadata": {},
   "outputs": [],
   "source": [
    "# Function to read WiFi data from a CSV file\n",
    "def read_wifi_data(filename=\"wifi_scan_results.csv\"):\n",
    "    with open(filename, 'r') as csvfile:\n",
    "        # Using a CSV DictReader to read the file into a dictionary format\n",
    "        reader = csv.DictReader(csvfile)\n",
    "        # Converting the read data into a list of dictionaries\n",
    "        wifi_data = list(reader)\n",
    "    return wifi_data\n",
    "\n",
    "# Function to organize WiFi data by BSSID\n",
    "def organize_data_by_bssid(wifi_data):\n",
    "    bssid_data = {}  # Dictionary to hold data organized by BSSID\n",
    "    for entry in wifi_data:\n",
    "        bssid = entry['BSSID']\n",
    "        # Initialize a new entry for a BSSID if it's not already present\n",
    "        if bssid not in bssid_data:\n",
    "            bssid_data[bssid] = {'coordinates': [], 'signals': []}\n",
    "        # Convert coordinates and signal strengths to appropriate data types\n",
    "        coords = [float(entry['X Coordinate']), float(entry['Y Coordinate']), float(entry['Z Coordinate'])]\n",
    "        signal = abs(int(entry['Signal']))  # Convert signal strength to a positive value\n",
    "        # Append the coordinates and signal strength to the respective BSSID entry\n",
    "        bssid_data[bssid]['coordinates'].append(coords)\n",
    "        bssid_data[bssid]['signals'].append(signal)\n",
    "    return bssid_data\n",
    "\n",
    "# Function to perform trilateration\n",
    "def trilateration(nodes, distances):\n",
    "    # Nested function defining the equations for trilateration\n",
    "    def equations(point):\n",
    "        x, y, z = point\n",
    "        # Compute the squared differences between measured and calculated distances\n",
    "        return [((x - nx)**2 + (y - ny)**2 + (z - nz)**2 - d**2) for [nx, ny, nz], d in zip(nodes, distances)]\n",
    "    # Starting with an initial guess of [0, 0, 0]\n",
    "    initial_guess = [0, 0, 0]\n",
    "    # Using least squares to solve the equations\n",
    "    result = least_squares(equations, initial_guess)\n",
    "    return result.x"
   ]
  },
  {
   "cell_type": "code",
   "execution_count": null,
   "id": "426e0e41",
   "metadata": {},
   "outputs": [],
   "source": [
    "# Calling the function to read the data\n",
    "wifi_data = read_wifi_data()\n",
    "\n",
    "# Organizing the data by BSSID (MAC Address)\n",
    "bssid_data = organize_data_by_bssid(wifi_data)\n",
    "\n",
    "# Dictionary to store estimated positions\n",
    "estimated_positions = {}\n",
    "for bssid, data in bssid_data.items():\n",
    "    # Ensure there are at least 3 points for accurate trilateration\n",
    "    if len(data['coordinates']) >= 3:\n",
    "        position = trilateration(data['coordinates'], data['signals'])\n",
    "        estimated_positions[bssid] = position\n",
    "\n",
    "# Writing the estimated positions to a new CSV file\n",
    "with open('estimated_positions.csv', 'w', newline='') as csvfile:\n",
    "    fieldnames = ['BSSID', 'X Position', 'Y Position', 'Z Position']\n",
    "    writer = csv.DictWriter(csvfile, fieldnames=fieldnames)\n",
    "    writer.writeheader()\n",
    "    for bssid, position in estimated_positions.items():\n",
    "        writer.writerow({'BSSID': bssid, 'X Position': position[0], 'Y Position': position[1], 'Z Position': position[2]})"
   ]
  }
 ],
 "metadata": {
  "kernelspec": {
   "display_name": "Python 3 (ipykernel)",
   "language": "python",
   "name": "python3"
  },
  "language_info": {
   "codemirror_mode": {
    "name": "ipython",
    "version": 3
   },
   "file_extension": ".py",
   "mimetype": "text/x-python",
   "name": "python",
   "nbconvert_exporter": "python",
   "pygments_lexer": "ipython3",
   "version": "3.9.18"
  }
 },
 "nbformat": 4,
 "nbformat_minor": 5
}
