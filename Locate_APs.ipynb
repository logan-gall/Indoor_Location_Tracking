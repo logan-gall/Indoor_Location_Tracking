{
 "cells": [
  {
   "cell_type": "code",
   "execution_count": 1,
   "id": "30b84b1f",
   "metadata": {},
   "outputs": [],
   "source": [
    "import csv\n",
    "import time\n",
    "from pywifi import PyWiFi, const\n",
    "\n",
    "def scan_wifi():\n",
    "    wifi = PyWiFi()\n",
    "    iface = wifi.interfaces()[0]  # Get the first wireless interface\n",
    "\n",
    "    iface.scan()  # Start scanning\n",
    "    time.sleep(3)  # Wait for scanning to complete\n",
    "\n",
    "    results = iface.scan_results()\n",
    "    networks = []\n",
    "\n",
    "    for network in results:\n",
    "        network_info = {\n",
    "            \"SSID\": network.ssid,\n",
    "            \"BSSID\": network.bssid,\n",
    "            \"Signal\": network.signal,\n",
    "            \"Frequency\": network.freq,\n",
    "            \"Auth\": network.auth,\n",
    "            \"AKM\": network.akm\n",
    "        }\n",
    "        networks.append(network_info)\n",
    "\n",
    "    return networks\n",
    "\n",
    "def save_to_csv(networks, filename=\"wifi_scan_results.csv\"):\n",
    "    with open(filename, 'w', newline='') as csvfile:\n",
    "        fieldnames = [\"X Coordinate\", \"Y Coordinate\", \"Z Coordinate\", \"SSID\", \"BSSID\", \"Signal\", \"Frequency\", \"Auth\", \"AKM\"]\n",
    "        writer = csv.DictWriter(csvfile, fieldnames=fieldnames)\n",
    "\n",
    "        writer.writeheader()\n",
    "        for network in networks:\n",
    "            writer.writerow(network)"
   ]
  },
  {
   "cell_type": "code",
   "execution_count": 4,
   "id": "5e1349ce",
   "metadata": {},
   "outputs": [
    {
     "name": "stdout",
     "output_type": "stream",
     "text": [
      "Enter X coordinate (type 'quit' and press Enter to exit): 0\n",
      "Enter Y coordinate: 0\n",
      "Enter Z coordinate: 0\n",
      "Enter X coordinate (type 'quit' and press Enter to exit): 0\n",
      "Enter Y coordinate: 0\n",
      "Enter Z coordinate: 5\n",
      "Enter X coordinate (type 'quit' and press Enter to exit): 0\n",
      "Enter Y coordinate: 50\n",
      "Enter Z coordinate: 0\n",
      "Enter X coordinate (type 'quit' and press Enter to exit): 0\n",
      "Enter Y coordinate: 50\n",
      "Enter Z coordinate: 5\n",
      "Enter X coordinate (type 'quit' and press Enter to exit): 0\n",
      "Enter Y coordinate: 100\n",
      "Enter Z coordinate: 0\n",
      "Enter X coordinate (type 'quit' and press Enter to exit): 0\n",
      "Enter Y coordinate: 100\n",
      "Enter Z coordinate: 5\n",
      "Enter X coordinate (type 'quit' and press Enter to exit): 0\n",
      "Enter Y coordinate: 150\n",
      "Enter Z coordinate: 0\n",
      "Enter X coordinate (type 'quit' and press Enter to exit): 0\n",
      "Enter Y coordinate: 150\n",
      "Enter Z coordinate: 5\n",
      "Enter X coordinate (type 'quit' and press Enter to exit): 0\n",
      "Enter Y coordinate: 200\n",
      "Enter Z coordinate: 0\n",
      "Enter X coordinate (type 'quit' and press Enter to exit): 0\n",
      "Enter Y coordinate: 200\n",
      "Enter Z coordinate: 5\n",
      "Enter X coordinate (type 'quit' and press Enter to exit): 0\n",
      "Enter Y coordinate: 250\n",
      "Enter Z coordinate: 0\n",
      "Enter X coordinate (type 'quit' and press Enter to exit): 0\n",
      "Enter Y coordinate: 250\n",
      "Enter Z coordinate: 5\n",
      "Enter X coordinate (type 'quit' and press Enter to exit): 0\n",
      "Enter Y coordinate: 260\n",
      "Enter Z coordinate: 0\n"
     ]
    },
    {
     "name": "stderr",
     "output_type": "stream",
     "text": [
      "pywifi 2023-12-11 16:47:27,950 ERROR Open handle failed!\n"
     ]
    },
    {
     "name": "stdout",
     "output_type": "stream",
     "text": [
      "Enter X coordinate (type 'quit' and press Enter to exit): 0\n",
      "Enter Y coordinate: 260\n",
      "Enter Z coordinate: 0\n"
     ]
    },
    {
     "name": "stderr",
     "output_type": "stream",
     "text": [
      "pywifi 2023-12-11 16:47:44,116 ERROR Open handle failed!\n"
     ]
    },
    {
     "name": "stdout",
     "output_type": "stream",
     "text": [
      "Enter X coordinate (type 'quit' and press Enter to exit): quit\n",
      "WiFi scan results saved to 'wifi_scan_results.csv'.\n"
     ]
    }
   ],
   "source": [
    "if __name__ == \"__main__\":\n",
    "    all_networks = []\n",
    "\n",
    "    while True:\n",
    "        x = input(\"Enter X coordinate (type 'quit' and press Enter to exit): \")\n",
    "        if x.lower() == 'quit':\n",
    "            break\n",
    "\n",
    "        y = input(\"Enter Y coordinate: \")\n",
    "        z = input(\"Enter Z coordinate: \")\n",
    "\n",
    "        networks = scan_wifi()\n",
    "        for network in networks:\n",
    "            network.update({\"X Coordinate\": x, \"Y Coordinate\": y, \"Z Coordinate\": z})\n",
    "        all_networks.extend(networks)\n",
    "    \n",
    "    save_to_csv(all_networks)\n",
    "    print(\"WiFi scan results saved to 'wifi_scan_results.csv'.\")"
   ]
  },
  {
   "cell_type": "code",
   "execution_count": 5,
   "id": "f3460f24",
   "metadata": {},
   "outputs": [],
   "source": [
    "import csv\n",
    "from scipy.optimize import least_squares\n",
    "\n",
    "def read_wifi_data(filename=\"wifi_scan_results.csv\"):\n",
    "    with open(filename, 'r') as csvfile:\n",
    "        reader = csv.DictReader(csvfile)\n",
    "        wifi_data = list(reader)\n",
    "    return wifi_data\n",
    "\n",
    "wifi_data = read_wifi_data()\n",
    "\n",
    "def organize_data_by_bssid(wifi_data):\n",
    "    bssid_data = {}\n",
    "    for entry in wifi_data:\n",
    "        bssid = entry['BSSID']\n",
    "        if bssid not in bssid_data:\n",
    "            bssid_data[bssid] = {'coordinates': [], 'signals': []}\n",
    "        coords = [float(entry['X Coordinate']), float(entry['Y Coordinate']), float(entry['Z Coordinate'])]\n",
    "        signal = abs(int(entry['Signal']))  # Convert signal to a positive value\n",
    "        bssid_data[bssid]['coordinates'].append(coords)\n",
    "        bssid_data[bssid]['signals'].append(signal)\n",
    "    return bssid_data\n",
    "\n",
    "bssid_data = organize_data_by_bssid(wifi_data)\n",
    "\n",
    "def trilateration(nodes, distances):\n",
    "    def equations(point):\n",
    "        x, y, z = point\n",
    "        return [((x - nx)**2 + (y - ny)**2 + (z - nz)**2 - d**2) for [nx, ny, nz], d in zip(nodes, distances)]\n",
    "    initial_guess = [0, 0, 0]\n",
    "    result = least_squares(equations, initial_guess)\n",
    "    return result.x\n",
    "\n",
    "estimated_positions = {}\n",
    "for bssid, data in bssid_data.items():\n",
    "    if len(data['coordinates']) >= 3:  # Ensure there are at least 3 points for trilateration\n",
    "        position = trilateration(data['coordinates'], data['signals'])\n",
    "        estimated_positions[bssid] = position\n",
    "\n",
    "# Save the estimated positions to a new CSV file\n",
    "with open('estimated_positions.csv', 'w', newline='') as csvfile:\n",
    "    fieldnames = ['BSSID', 'X Position', 'Y Position', 'Z Position']\n",
    "    writer = csv.DictWriter(csvfile, fieldnames=fieldnames)\n",
    "    writer.writeheader()\n",
    "    for bssid, position in estimated_positions.items():\n",
    "        writer.writerow({'BSSID': bssid, 'X Position': position[0], 'Y Position': position[1], 'Z Position': position[2]})"
   ]
  },
  {
   "cell_type": "code",
   "execution_count": null,
   "id": "d0bec62c",
   "metadata": {},
   "outputs": [],
   "source": []
  }
 ],
 "metadata": {
  "kernelspec": {
   "display_name": "Python 3 (ipykernel)",
   "language": "python",
   "name": "python3"
  },
  "language_info": {
   "codemirror_mode": {
    "name": "ipython",
    "version": 3
   },
   "file_extension": ".py",
   "mimetype": "text/x-python",
   "name": "python",
   "nbconvert_exporter": "python",
   "pygments_lexer": "ipython3",
   "version": "3.9.16"
  }
 },
 "nbformat": 4,
 "nbformat_minor": 5
}
