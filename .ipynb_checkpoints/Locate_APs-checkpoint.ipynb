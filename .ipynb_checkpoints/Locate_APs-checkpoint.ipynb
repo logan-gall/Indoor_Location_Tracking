{
 "cells": [
  {
   "cell_type": "markdown",
   "id": "22413b24",
   "metadata": {},
   "source": [
    "# Locating Access Points\n",
    "Logan Gall, gall0487\n",
    "\n",
    "13 Dec. 2023\n",
    "\n",
    "This file serves to map out access points within a building. There are two initial functions to scan for wifi and save data to a csv file. The main function loops and waits for user input of location. It then calls the wifi scanning to save all detected wifi access points at the given location. This runs until the user quits (or the wifi scanning breaks)"
   ]
  },
  {
   "cell_type": "code",
   "execution_count": null,
   "id": "e9edd7c8",
   "metadata": {},
   "outputs": [],
   "source": [
    "import csv\n",
    "import time\n",
    "from pywifi import PyWiFi, const"
   ]
  },
  {
   "cell_type": "code",
   "execution_count": 1,
   "id": "30b84b1f",
   "metadata": {},
   "outputs": [],
   "source": [
    "def scan_wifi():\n",
    "    wifi = PyWiFi()\n",
    "    iface = wifi.interfaces()[0]  # Get the first wireless interface\n",
    "\n",
    "    iface.scan()  # Start scanning\n",
    "    time.sleep(3)  # Wait for scanning to complete\n",
    "\n",
    "    results = iface.scan_results()\n",
    "    networks = []\n",
    "\n",
    "    for network in results:\n",
    "        network_info = {\n",
    "            \"SSID\": network.ssid,\n",
    "            \"BSSID\": network.bssid,\n",
    "            \"Signal\": network.signal,\n",
    "            \"Frequency\": network.freq,\n",
    "            \"Auth\": network.auth,\n",
    "            \"AKM\": network.akm\n",
    "        }\n",
    "        networks.append(network_info)\n",
    "\n",
    "    return networks\n",
    "\n",
    "#Function to save network info to CSV file.\n",
    "def save_to_csv(networks, filename=\"wifi_scan_results.csv\"):\n",
    "    with open(filename, 'w', newline='') as csvfile:\n",
    "        fieldnames = [\"X Coordinate\", \"Y Coordinate\", \"Z Coordinate\", \"SSID\", \"BSSID\", \"Signal\", \"Frequency\", \"Auth\", \"AKM\"]\n",
    "        writer = csv.DictWriter(csvfile, fieldnames=fieldnames)\n",
    "\n",
    "        writer.writeheader()\n",
    "        for network in networks:\n",
    "            writer.writerow(network)"
   ]
  },
  {
   "cell_type": "code",
   "execution_count": 4,
   "id": "5e1349ce",
   "metadata": {},
   "outputs": [
    {
     "name": "stdout",
     "output_type": "stream",
     "text": [
      "Enter X coordinate (type 'quit' and press Enter to exit): 0\n",
      "Enter Y coordinate: 0\n",
      "Enter Z coordinate: 0\n",
      "Enter X coordinate (type 'quit' and press Enter to exit): 0\n",
      "Enter Y coordinate: 0\n",
      "Enter Z coordinate: 5\n",
      "Enter X coordinate (type 'quit' and press Enter to exit): 0\n",
      "Enter Y coordinate: 50\n",
      "Enter Z coordinate: 0\n",
      "Enter X coordinate (type 'quit' and press Enter to exit): 0\n",
      "Enter Y coordinate: 50\n",
      "Enter Z coordinate: 5\n",
      "Enter X coordinate (type 'quit' and press Enter to exit): 0\n",
      "Enter Y coordinate: 100\n",
      "Enter Z coordinate: 0\n",
      "Enter X coordinate (type 'quit' and press Enter to exit): 0\n",
      "Enter Y coordinate: 100\n",
      "Enter Z coordinate: 5\n",
      "Enter X coordinate (type 'quit' and press Enter to exit): 0\n",
      "Enter Y coordinate: 150\n",
      "Enter Z coordinate: 0\n",
      "Enter X coordinate (type 'quit' and press Enter to exit): 0\n",
      "Enter Y coordinate: 150\n",
      "Enter Z coordinate: 5\n",
      "Enter X coordinate (type 'quit' and press Enter to exit): 0\n",
      "Enter Y coordinate: 200\n",
      "Enter Z coordinate: 0\n",
      "Enter X coordinate (type 'quit' and press Enter to exit): 0\n",
      "Enter Y coordinate: 200\n",
      "Enter Z coordinate: 5\n",
      "Enter X coordinate (type 'quit' and press Enter to exit): 0\n",
      "Enter Y coordinate: 250\n",
      "Enter Z coordinate: 0\n",
      "Enter X coordinate (type 'quit' and press Enter to exit): 0\n",
      "Enter Y coordinate: 250\n",
      "Enter Z coordinate: 5\n",
      "Enter X coordinate (type 'quit' and press Enter to exit): 0\n",
      "Enter Y coordinate: 260\n",
      "Enter Z coordinate: 0\n"
     ]
    },
    {
     "name": "stderr",
     "output_type": "stream",
     "text": [
      "pywifi 2023-12-11 16:47:27,950 ERROR Open handle failed!\n"
     ]
    },
    {
     "name": "stdout",
     "output_type": "stream",
     "text": [
      "Enter X coordinate (type 'quit' and press Enter to exit): 0\n",
      "Enter Y coordinate: 260\n",
      "Enter Z coordinate: 0\n"
     ]
    },
    {
     "name": "stderr",
     "output_type": "stream",
     "text": [
      "pywifi 2023-12-11 16:47:44,116 ERROR Open handle failed!\n"
     ]
    },
    {
     "name": "stdout",
     "output_type": "stream",
     "text": [
      "Enter X coordinate (type 'quit' and press Enter to exit): quit\n",
      "WiFi scan results saved to 'wifi_scan_results.csv'.\n"
     ]
    }
   ],
   "source": [
    "# Check if the script is being run as the main program and not imported as a module\n",
    "if __name__ == \"__main__\":\n",
    "    all_networks = []  # Initialize an empty list to store information about all networks\n",
    "\n",
    "    while True:  # Start an infinite loop\n",
    "        # Prompt the user to enter the X coordinate or type 'quit' to exit\n",
    "        x = input(\"Enter X coordinate (type 'quit' and press Enter to exit): \")\n",
    "        if x.lower() == 'quit':  # Check if the input is 'quit' (case insensitive)\n",
    "            break  # Exit the loop\n",
    "\n",
    "        # Prompt the user to enter the Y and Z coordinates\n",
    "        y = input(\"Enter Y coordinate: \")\n",
    "        z = input(\"Enter Z coordinate: \")\n",
    "\n",
    "        # Call the scan_wifi function (assumed to be defined elsewhere)\n",
    "        # This function is expected to return a list of WiFi networks\n",
    "        networks = scan_wifi()\n",
    "\n",
    "        # Iterate over each network found in the scan\n",
    "        for network in networks:\n",
    "            # Update each network dictionary with the entered X, Y, Z coordinates\n",
    "            network.update({\"X Coordinate\": x, \"Y Coordinate\": y, \"Z Coordinate\": z})\n",
    "        \n",
    "        # Extend the all_networks list with the updated networks from this scan\n",
    "        all_networks.extend(networks)\n",
    "    \n",
    "    # After exiting the loop, save the collected network data to a CSV file\n",
    "    # The save_to_csv function is assumed to be defined elsewhere\n",
    "    save_to_csv(all_networks)\n",
    "\n",
    "    # Print a message to inform the user that the scan results have been saved\n",
    "    print(\"WiFi scan results saved to 'wifi_scan_results.csv'.\")"
   ]
  },
  {
   "cell_type": "code",
   "execution_count": null,
   "id": "d0bec62c",
   "metadata": {},
   "outputs": [],
   "source": []
  }
 ],
 "metadata": {
  "kernelspec": {
   "display_name": "Python 3 (ipykernel)",
   "language": "python",
   "name": "python3"
  },
  "language_info": {
   "codemirror_mode": {
    "name": "ipython",
    "version": 3
   },
   "file_extension": ".py",
   "mimetype": "text/x-python",
   "name": "python",
   "nbconvert_exporter": "python",
   "pygments_lexer": "ipython3",
   "version": "3.9.18"
  }
 },
 "nbformat": 4,
 "nbformat_minor": 5
}
