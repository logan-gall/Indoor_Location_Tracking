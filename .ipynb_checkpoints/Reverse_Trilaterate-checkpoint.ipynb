{
 "cells": [
  {
   "cell_type": "code",
   "execution_count": null,
   "id": "b9c0c4cf",
   "metadata": {},
   "outputs": [],
   "source": [
    "import csv\n",
    "from scipy.optimize import least_squares\n",
    "\n",
    "def read_wifi_data(filename=\"wifi_scan_results.csv\"):\n",
    "    with open(filename, 'r') as csvfile:\n",
    "        reader = csv.DictReader(csvfile)\n",
    "        wifi_data = list(reader)\n",
    "    return wifi_data\n",
    "\n",
    "wifi_data = read_wifi_data()\n",
    "\n",
    "def organize_data_by_bssid(wifi_data):\n",
    "    bssid_data = {}\n",
    "    for entry in wifi_data:\n",
    "        bssid = entry['BSSID']\n",
    "        if bssid not in bssid_data:\n",
    "            bssid_data[bssid] = {'coordinates': [], 'signals': []}\n",
    "        coords = [float(entry['X Coordinate']), float(entry['Y Coordinate']), float(entry['Z Coordinate'])]\n",
    "        signal = abs(int(entry['Signal']))  # Convert signal to a positive value\n",
    "        bssid_data[bssid]['coordinates'].append(coords)\n",
    "        bssid_data[bssid]['signals'].append(signal)\n",
    "    return bssid_data\n",
    "\n",
    "bssid_data = organize_data_by_bssid(wifi_data)\n",
    "\n",
    "def trilateration(nodes, distances):\n",
    "    def equations(point):\n",
    "        x, y, z = point\n",
    "        return [((x - nx)**2 + (y - ny)**2 + (z - nz)**2 - d**2) for [nx, ny, nz], d in zip(nodes, distances)]\n",
    "    initial_guess = [0, 0, 0]\n",
    "    result = least_squares(equations, initial_guess)\n",
    "    return result.x\n",
    "\n",
    "estimated_positions = {}\n",
    "for bssid, data in bssid_data.items():\n",
    "    if len(data['coordinates']) >= 3:  # Ensure there are at least 3 points for trilateration\n",
    "        position = trilateration(data['coordinates'], data['signals'])\n",
    "        estimated_positions[bssid] = position\n",
    "\n",
    "# Save the estimated positions to a new CSV file\n",
    "with open('estimated_positions.csv', 'w', newline='') as csvfile:\n",
    "    fieldnames = ['BSSID', 'X Position', 'Y Position', 'Z Position']\n",
    "    writer = csv.DictWriter(csvfile, fieldnames=fieldnames)\n",
    "    writer.writeheader()\n",
    "    for bssid, position in estimated_positions.items():\n",
    "        writer.writerow({'BSSID': bssid, 'X Position': position[0], 'Y Position': position[1], 'Z Position': position[2]})"
   ]
  }
 ],
 "metadata": {
  "kernelspec": {
   "display_name": "Python 3 (ipykernel)",
   "language": "python",
   "name": "python3"
  },
  "language_info": {
   "codemirror_mode": {
    "name": "ipython",
    "version": 3
   },
   "file_extension": ".py",
   "mimetype": "text/x-python",
   "name": "python",
   "nbconvert_exporter": "python",
   "pygments_lexer": "ipython3",
   "version": "3.9.18"
  }
 },
 "nbformat": 4,
 "nbformat_minor": 5
}
