{
 "cells": [
  {
   "cell_type": "code",
   "execution_count": 1,
   "id": "53251f44",
   "metadata": {},
   "outputs": [
    {
     "name": "stdout",
     "output_type": "stream",
     "text": [
      "pygame 2.5.2 (SDL 2.28.3, Python 3.9.16)\n",
      "Hello from the pygame community. https://www.pygame.org/contribute.html\n"
     ]
    }
   ],
   "source": [
    "import pygame\n",
    "\n",
    "class Node:\n",
    "    def __init__(self, x, y, z, node_id, curr_strength):\n",
    "        self.x = x\n",
    "        self.y = y\n",
    "        self.z = z\n",
    "        self.curr_strength = curr_strength\n",
    "        self.node_id = node_id\n",
    "        self.signal_strengths = {}\n",
    "        self.radius = 10\n",
    "\n",
    "    def set_signal_strength(self, distance, strength):\n",
    "        self.signal_strengths[distance] = strength\n",
    "\n",
    "    def set_radius(self, rad):\n",
    "        self.radius = rad\n",
    "    \n",
    "    def set_curr_strength(self, strength):\n",
    "        self.curr_strength = strength\n",
    "        \n",
    "    def get_curr_strength(self):\n",
    "        return self.curr_strength\n",
    "    \n",
    "    def get_node_id(self):\n",
    "        return self.node_id\n",
    "        \n",
    "    def get_radius(self):\n",
    "        return self.radius\n",
    "        \n",
    "    def get_signal_strength(self, distance):\n",
    "        return self.signal_strengths.get(distance, None)\n",
    "\n",
    "    def draw(self, screen):\n",
    "        pygame.draw.circle(screen, (255, 255, 255), (self.x, self.y), self.radius)\n",
    "\n",
    "    def is_clicked(self, pos):\n",
    "        return (self.x - pos[0])**2 + (self.y - pos[1])**2 <= self.radius**2\n",
    "\n",
    "def main():\n",
    "    pygame.init()\n",
    "    screen = pygame.display.set_mode((800, 600))\n",
    "    pygame.display.set_caption(\"Node Signal Strength Adjuster\")\n",
    "\n",
    "    nodes = []\n",
    "    for i in range(5):\n",
    "        #x = int(input(f\"Enter x location for node {i+1} (0-800): \"))\n",
    "        #y = int(input(f\"Enter y location for node {i+1} (0-600): \"))\n",
    "        x = int(i * 20 + 100)\n",
    "        y = int(i * 20 + 100)\n",
    "        z = int(i * 1 + 10)\n",
    "        curr_strength = 50\n",
    "        node = Node(x, y, z, i, curr_strength)\n",
    "\n",
    "        for distance in [0, 5, 10]:\n",
    "            #strength = float(input(f\"Enter signal strength for node {i+1} at {distance}ft: \"))\n",
    "            strength = float(100 / (distance + 1))\n",
    "            node.set_signal_strength(distance, strength)\n",
    "\n",
    "        nodes.append(node)\n",
    "\n",
    "    selected_node = None\n",
    "    running = True\n",
    "    while running:\n",
    "        screen.fill((0, 0, 0))\n",
    "\n",
    "        for event in pygame.event.get():\n",
    "            if event.type == pygame.QUIT:\n",
    "                running = False\n",
    "            if event.type == pygame.MOUSEBUTTONDOWN:\n",
    "                for node in nodes:\n",
    "                    if node.is_clicked(event.pos):\n",
    "                        selected_node = node\n",
    "                        break\n",
    "            if event.type == pygame.KEYDOWN and selected_node:\n",
    "                if event.key == pygame.K_UP:\n",
    "                    selected_node.set_radius(selected_node.get_radius() + 1)\n",
    "                elif event.key == pygame.K_DOWN:\n",
    "                    selected_node.set_radius(selected_node.get_radius() - 1)\n",
    "\n",
    "        for node in nodes:\n",
    "            node.draw(screen)\n",
    "\n",
    "        pygame.display.flip()\n",
    "\n",
    "    pygame.quit()"
   ]
  },
  {
   "cell_type": "code",
   "execution_count": 2,
   "id": "d7d3f366",
   "metadata": {},
   "outputs": [],
   "source": [
    "main()"
   ]
  },
  {
   "cell_type": "code",
   "execution_count": null,
   "id": "ac428678",
   "metadata": {},
   "outputs": [],
   "source": []
  }
 ],
 "metadata": {
  "kernelspec": {
   "display_name": "Python 3 (ipykernel)",
   "language": "python",
   "name": "python3"
  },
  "language_info": {
   "codemirror_mode": {
    "name": "ipython",
    "version": 3
   },
   "file_extension": ".py",
   "mimetype": "text/x-python",
   "name": "python",
   "nbconvert_exporter": "python",
   "pygments_lexer": "ipython3",
   "version": "3.9.16"
  }
 },
 "nbformat": 4,
 "nbformat_minor": 5
}
